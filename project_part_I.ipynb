{
 "cells": [
  {
   "cell_type": "markdown",
   "id": "22475529",
   "metadata": {},
   "source": [
    "# LELEC2910 - Project part I\n",
    "\n",
    "This notebook serves as a tutorial for the **first part** of the project. It complements the detailed guidelines for the project that are available on Moodle."
   ]
  },
  {
   "cell_type": "code",
   "execution_count": null,
   "id": "4504aff2",
   "metadata": {},
   "outputs": [],
   "source": [
    "# import required\n",
    "import pandas as pd\n",
    "import matplotlib.pyplot as plt\n",
    "import numpy as np\n",
    "import scipy.signal as signal\n",
    "\n",
    "import utils #utils.py, gathers useful functions for loading and plotting Alphasat measurements"
   ]
  },
  {
   "cell_type": "markdown",
   "id": "21c75030",
   "metadata": {},
   "source": [
    "## 1) Load Alphasat measurements \n",
    "The cell below loads Alphasat measurements for a chosen month (either 'september2019', 'december2020', 'march2021', 'june2021'). Four months of data are provided, one per season. They do not come from the same year as the Alphasat receiver sometimes suffer from failure events, preventing the use of its data. Hence, the months have been chosen in order to give you data of good quality, i.e., without too many missing days."
   ]
  },
  {
   "cell_type": "code",
   "execution_count": null,
   "id": "316b1228",
   "metadata": {},
   "outputs": [],
   "source": [
    "# Load Alphasat measurements\n",
    "month_name = 'march2021' #'september2019'#'march2021'#'december2020'#'june2021'\n",
    "df_ch1, df_ch2, df_ch3, df_ch4 = utils.load_data('data',month_name)\n",
    "\n",
    "# Print the dataframe associated to channel 2, to show you its content\n",
    "print(df_ch2)"
   ]
  },
  {
   "cell_type": "markdown",
   "id": "af940771",
   "metadata": {},
   "source": [
    "## 2) Rain and failure events\n",
    "The identification of rain events has already been conducted, using visual inspection. Start and end dates of rain events are gathered in the events.csv file, loaded in the cell below. Then, a flag is added to the measurement dataframes, using the following convention: 0 for data under clear sky, 1 for data during a rain event, 2 for a failure of the system."
   ]
  },
  {
   "cell_type": "code",
   "execution_count": null,
   "id": "c54b6645",
   "metadata": {},
   "outputs": [],
   "source": [
    "# Load event file\n",
    "event_file = 'events.csv'\n",
    "df_event = pd.read_csv(event_file)\n",
    "\n",
    "# Print the loaded event file to show you its content\n",
    "print(df_event)"
   ]
  },
  {
   "cell_type": "code",
   "execution_count": null,
   "id": "12ed0094",
   "metadata": {},
   "outputs": [],
   "source": [
    "# Addition of a flag, based on the recorded events\n",
    "df_ch1, df_ch2, df_ch3, df_ch4 = utils.add_flags(df_event, df_ch1, df_ch2, df_ch3, df_ch4)\n",
    "\n",
    "# Print of the second channel dataframe after the flag addition\n",
    "print(df_ch1)"
   ]
  },
  {
   "cell_type": "markdown",
   "id": "89b54f3c",
   "metadata": {},
   "source": [
    "### Plot of loaded data\n",
    "The cell below plots the loaded data for each day in the selected date range. It uses the plot_one_day_4ch() function defined in utils.py. The last argument of the function is a boolean to set to 'true' to save the figure for each day (in the /figure folder). You are encouraged to run the plots for all dates in the chosen month, and then skim through the saved figures. On each figure, rain events are depicted in red, while failure events are in grey."
   ]
  },
  {
   "cell_type": "code",
   "execution_count": null,
   "id": "0f6047dd",
   "metadata": {
    "scrolled": true
   },
   "outputs": [],
   "source": [
    "# Choose the start and end dates according to the month\n",
    "all_dates = pd.date_range(start='2021-03-01', end='2021-03-31')\n",
    "\n",
    "date = all_dates[16]\n",
    "\n",
    "utils.plot_one_day_4ch(date, df_ch1, df_ch2, df_ch3, df_ch4, True)\n"
   ]
  },
  {
   "cell_type": "markdown",
   "id": "a92b6318",
   "metadata": {},
   "source": [
    "## 3) Excess attenuation and statistics\n",
    "It is now your turn to process the data and extract the excess attenuation for each month, at each frequency. Start with the excess attenuation time series, and then compute its statistics (CCDF). Remember to first define a template to determine the 0dB level.\n",
    "\n",
    "**Make sure to remove failure events when you compute the statistics (especially for June 2021).**"
   ]
  },
  {
   "cell_type": "code",
   "execution_count": null,
   "id": "500628f9",
   "metadata": {},
   "outputs": [],
   "source": [
    "### TO DO, extraction of excess attenuation statistics for each month\n",
    "\n",
    "# Compute the excess attenuation statistics for each channel\n",
    "stats = utils.compute_stats(df_ch1, df_ch2, df_ch3, df_ch4)\n",
    "\n",
    "# Print the statistics for channel 2\n",
    "print(stats[0])\n",
    "\n",
    "plt.plot(df_ch1['signal'].values)\n",
    "\n",
    "# Apply a low-pass filter to remove high frequencies\n",
    "b, a = signal.butter(4, 0.0001, btype='low', analog=False)\n",
    "filtered_signals = utils.low_pass_filters(b, a, df_ch1, df_ch2, df_ch3, df_ch4)\n",
    "flagged_signal = utils.flagging(filtered_signals, df_ch1, df_ch2, df_ch3, df_ch4, stats) # this is the template, maybe changes are needed\n",
    "\n",
    "plt.plot(filtered_signals[0])\n",
    "plt.plot(np.full(len(df_ch1['signal'].values), stats[0]['mean_signal']))\n",
    "plt.show()\n",
    "\n",
    "# Compute the excess attenuation statistics\n",
    "excess = df_ch1['signal'].values - flagged_signal[0]\n",
    "\n",
    "plt.plot(excess, label='Excess attenuation')\n",
    "plt.plot(np.full(len(df_ch1['signal'].values), stats[0]['std_signal']), color='red', linestyle='dashed', label='Standard deviation')\n",
    "plt.plot(np.full(len(df_ch1['signal'].values), -stats[0]['std_signal']), color='red', linestyle='dashed')\n",
    "plt.legend()\n",
    "plt.show()\n",
    "\n"
   ]
  },
  {
   "cell_type": "markdown",
   "id": "206b8411",
   "metadata": {},
   "source": [
    "## 4) Comparison with RAPIDS outputs\n",
    "The cell below loads RAPIDS simulation outputs at LLN for the 19.7GHz-frequency, and is given as an example. Only the total attenuation and the rain attenuation are loaded. Per frequency, two files are needed (one file is for the elevation angles $\\theta = 5°,10°,...,50°$ and the other is for $\\theta=55°,...,90°$). Plots are given as examples, and should compare with the graphs generated automatically by the RAPIDS software (available in the output files)."
   ]
  },
  {
   "cell_type": "code",
   "execution_count": null,
   "id": "50b5b945",
   "metadata": {},
   "outputs": [],
   "source": [
    "### Total attenuation at 19.7 GHz for LLN\n",
    "field_names = [\"SITE\",\"SATELLITE\",\"FREQUENCY\",\"ELEVATION\",\"EP\",\"PROBABILITY\",\"ATTENUATION\"] #for total attenuation\n",
    "\n",
    "file1 = pd.read_csv(\"rapids/lln_19GHz_1/output/ascii/attenuation_total.csv\",skiprows=7,names=field_names)\n",
    "file2 = pd.read_csv(\"rapids/lln_19GHz_2/output/ascii/attenuation_total.csv\",skiprows=7,names=field_names)\n",
    "rapids_total_attenuation_19_7_LLN = pd.concat((file1,file2))\n",
    "\n",
    "print(rapids_total_attenuation_19_7_LLN)\n",
    "utils.plot_RAPIDS_outputs(rapids_total_attenuation_19_7_LLN,\"Total attenuation for LLN at 19.7 GHz\")\n",
    "\n",
    "\n",
    "### Rain attenuation at 19.7 GHz for LLN\n",
    "field_names = [\"SITE\",\"SATELLITE\",\"FREQUENCY\",\"ELEVATION\",\"ELEVATION_PROBABILITY\",\"PROBABILITY\",\"HR\",\"R001\",\"K\",\"ALPHA\",\"ATTENUATION\"] #for rain\n",
    "\n",
    "file1 = pd.read_csv(\"rapids/lln_19GHz_1/output/ascii/attenuation_rain.csv\",skiprows=7,names=field_names)\n",
    "file2 = pd.read_csv(\"rapids/lln_19GHz_2/output/ascii/attenuation_rain.csv\",skiprows=7,names=field_names)\n",
    "rapids_rain_attenuation_19_7_LLN = pd.concat((file1,file2))\n",
    "\n",
    "print(rapids_rain_attenuation_19_7_LLN)\n",
    "utils.plot_RAPIDS_outputs(rapids_rain_attenuation_19_7_LLN,\"Rain attenuation for LLN at 19.7 GHz\")\n"
   ]
  },
  {
   "cell_type": "markdown",
   "id": "9f63bbf0",
   "metadata": {},
   "source": [
    "At this point, you should be able to compare your measured statistics with the ones from RAPIDS, knowing the elevation angle of the Alphasat satellite as seen from Louvain-la-Neuve (see slides of the project introduction session)."
   ]
  },
  {
   "cell_type": "code",
   "execution_count": null,
   "id": "486c96ba",
   "metadata": {},
   "outputs": [],
   "source": [
    "### Total attenuation at 37 GHz for ljubljana\n",
    "\n",
    "field_names = [\"SITE\",\"SATELLITE\",\"FREQUENCY\",\"ELEVATION\",\"EP\",\"PROBABILITY\",\"ATTENUATION\"] #for total attenuation\n",
    "\n",
    "file1 = pd.read_csv(\"rapids/ljubljana_37GHz_1/output/ascii/attenuation_total.csv\",skiprows=7,names=field_names)\n",
    "file2 = pd.read_csv(\"rapids/ljubljana_37GHz_2/output/ascii/attenuation_total.csv\",skiprows=7,names=field_names)\n",
    "\n",
    "rapids_total_attenuation_37_LUB = pd.concat((file1,file2))\n",
    "\n",
    "utils.plot_RAPIDS_outputs(rapids_total_attenuation_37_LUB,\"Total attenuation for Ljubljana at 37 GHz\")\n",
    "\n",
    "### Rain attenuation at 37 GHz for ljubljana\n",
    "\n",
    "field_names = [\"SITE\",\"SATELLITE\",\"FREQUENCY\",\"ELEVATION\",\"ELEVATION_PROBABILITY\",\"PROBABILITY\",\"HR\",\"R001\",\"K\",\"ALPHA\",\"ATTENUATION\"] #for rain\n",
    "\n",
    "file1 = pd.read_csv(\"rapids/ljubljana_37GHz_1/output/ascii/attenuation_rain.csv\",skiprows=7,names=field_names)\n",
    "file2 = pd.read_csv(\"rapids/ljubljana_37GHz_2/output/ascii/attenuation_rain.csv\",skiprows=7,names=field_names)\n",
    "\n",
    "rapids_rain_attenuation_37_LUB = pd.concat((file1,file2))\n",
    "\n",
    "utils.plot_RAPIDS_outputs(rapids_rain_attenuation_37_LUB,\"Rain attenuation for Ljubljana at 37 GHz\")"
   ]
  },
  {
   "cell_type": "code",
   "execution_count": null,
   "id": "9621da3e",
   "metadata": {},
   "outputs": [],
   "source": [
    "### Total attenuation at 37 GHz for lln\n",
    "\n",
    "field_names = [\"SITE\",\"SATELLITE\",\"FREQUENCY\",\"ELEVATION\",\"EP\",\"PROBABILITY\",\"ATTENUATION\"] #for total attenuation\n",
    "\n",
    "file1 = pd.read_csv(\"rapids/lln_37GHz_1/output/ascii/attenuation_total.csv\",skiprows=7,names=field_names)\n",
    "file2 = pd.read_csv(\"rapids/lln_37GHz_2/output/ascii/attenuation_total.csv\",skiprows=7,names=field_names)\n",
    "\n",
    "rapids_total_attenuation_37_LLN = pd.concat((file1,file2))\n",
    "\n",
    "utils.plot_RAPIDS_outputs(rapids_total_attenuation_37_LLN,\"Total attenuation for LLN at 37 GHz\")\n",
    "\n",
    "### Rain attenuation at 37 GHz for lln\n",
    "\n",
    "field_names = [\"SITE\",\"SATELLITE\",\"FREQUENCY\",\"ELEVATION\",\"ELEVATION_PROBABILITY\",\"PROBABILITY\",\"HR\",\"R001\",\"K\",\"ALPHA\",\"ATTENUATION\"] #for rain\n",
    "\n",
    "file1 = pd.read_csv(\"rapids/lln_37GHz_1/output/ascii/attenuation_rain.csv\",skiprows=7,names=field_names)\n",
    "file2 = pd.read_csv(\"rapids/lln_37GHz_2/output/ascii/attenuation_rain.csv\",skiprows=7,names=field_names)\n",
    "\n",
    "rapids_rain_attenuation_37_LLN = pd.concat((file1,file2))\n",
    "\n",
    "utils.plot_RAPIDS_outputs(rapids_rain_attenuation_37_LLN,\"Rain attenuation for LLN at 37 GHz\")"
   ]
  },
  {
   "cell_type": "code",
   "execution_count": null,
   "id": "c3376a5d",
   "metadata": {},
   "outputs": [],
   "source": [
    "import warnings\n",
    "warnings.filterwarnings(\"ignore\")\n",
    "\n",
    "### compute the difference between LLN and LUB for total attenuation at 37 GHz\n",
    "\n",
    "for i in range(0,18):\n",
    "    \n",
    "    # Ensure the ATTENUATION column is of string type\n",
    "    rapids_total_attenuation_37_LLN['ATTENUATION'].iloc[i*26:(i+1)*26] = rapids_total_attenuation_37_LLN['ATTENUATION'].iloc[i*26:(i+1)*26].astype(str)\n",
    "    rapids_total_attenuation_37_LUB['ATTENUATION'].iloc[i*26:(i+1)*26] = rapids_total_attenuation_37_LUB['ATTENUATION'].iloc[i*26:(i+1)*26].astype(str)\n",
    "\n",
    "    # Remove ' dB' and convert to float\n",
    "    rapids_total_attenuation_37_LLN['ATTENUATION'].iloc[i*26:(i+1)*26] = rapids_total_attenuation_37_LLN['ATTENUATION'].iloc[i*26:(i+1)*26].str.replace(' dB','').astype(float)\n",
    "    rapids_total_attenuation_37_LUB['ATTENUATION'].iloc[i*26:(i+1)*26] = rapids_total_attenuation_37_LUB['ATTENUATION'].iloc[i*26:(i+1)*26].str.replace(' dB','').astype(float)\n",
    "\n",
    "    LLN_LUB_37_tot_difference = rapids_total_attenuation_37_LLN['ATTENUATION'].iloc[i*26:(i+1)*26] - rapids_total_attenuation_37_LUB['ATTENUATION'].iloc[i*26:(i+1)*26]\n",
    "    \n",
    "    plt.semilogx(rapids_total_attenuation_37_LUB[\"PROBABILITY\"].values[i*26:(i+1)*26],LLN_LUB_37_tot_difference,label=\"{}°\".format((i+1)*5))\n",
    "\n",
    "plt.title(\"Difference between LLN and LUB for total attenuation at 37 GHz\")\n",
    "plt.xlim(1e-3,100)\n",
    "plt.xlabel(\"Probability of occurence\")\n",
    "plt.ylabel(\"Attenuation difference (dB)\")\n",
    "plt.legend()\n",
    "plt.show()\n",
    "\n",
    "### compute the difference between LLN and LUB for rain attenuation at 37 GHz\n",
    "\n",
    "for i in range(0,18):\n",
    "    \n",
    "    # Ensure the ATTENUATION column is of string type\n",
    "    rapids_rain_attenuation_37_LLN['ATTENUATION'].iloc[i*26:(i+1)*26] = rapids_rain_attenuation_37_LLN['ATTENUATION'].iloc[i*26:(i+1)*26].astype(str)\n",
    "    rapids_rain_attenuation_37_LUB['ATTENUATION'].iloc[i*26:(i+1)*26] = rapids_rain_attenuation_37_LUB['ATTENUATION'].iloc[i*26:(i+1)*26].astype(str)\n",
    "    \n",
    "    # Remove ' dB' and convert to float\n",
    "    rapids_rain_attenuation_37_LLN['ATTENUATION'].iloc[i*26:(i+1)*26] = rapids_rain_attenuation_37_LLN['ATTENUATION'].iloc[i*26:(i+1)*26].str.replace(' dB','').astype(float)\n",
    "    rapids_rain_attenuation_37_LUB['ATTENUATION'].iloc[i*26:(i+1)*26] = rapids_rain_attenuation_37_LUB['ATTENUATION'].iloc[i*26:(i+1)*26].str.replace(' dB','').astype(float)\n",
    "    \n",
    "    LLN_LUB_37_rain_difference = rapids_rain_attenuation_37_LLN['ATTENUATION'].iloc[i*26:(i+1)*26] - rapids_rain_attenuation_37_LUB['ATTENUATION'].iloc[i*26:(i+1)*26]\n",
    "    \n",
    "    plt.semilogx(rapids_rain_attenuation_37_LUB[\"PROBABILITY\"].values[i*26:(i+1)*26],LLN_LUB_37_rain_difference,label=\"{}°\".format((i+1)*5))\n",
    "    \n",
    "plt.title(\"Difference between LLN and LUB for rain attenuation at 37 GHz\")\n",
    "plt.xlim(1e-3,100)\n",
    "plt.xlabel(\"Probability of occurence\")\n",
    "plt.ylabel(\"Attenuation difference (dB)\")\n",
    "plt.legend()\n",
    "plt.show()"
   ]
  }
 ],
 "metadata": {
  "kernelspec": {
   "display_name": "Python 3",
   "language": "python",
   "name": "python3"
  },
  "language_info": {
   "codemirror_mode": {
    "name": "ipython",
    "version": 3
   },
   "file_extension": ".py",
   "mimetype": "text/x-python",
   "name": "python",
   "nbconvert_exporter": "python",
   "pygments_lexer": "ipython3",
   "version": "3.12.2"
  }
 },
 "nbformat": 4,
 "nbformat_minor": 5
}
